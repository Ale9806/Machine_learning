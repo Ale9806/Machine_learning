{
 "cells": [
  {
   "cell_type": "markdown",
   "metadata": {},
   "source": [
    "# Convex and Concave functions\n",
    "\n",
    "But first, a reminder on a convex Set:\n",
    "\n",
    "In geometry, a subset of a Euclidean space, or more generally an affine space over the reals, is convex if, given any two points, it contains the whole line segment that joins them. \n",
    "\n",
    "![Convex](images\\convex_set.PNG)\n",
    "\n",
    "Let $ X $ be a convex set in a real `vector space` and let $ f: X \\to R$ be  a function.\n",
    "\n",
    "$ f $ is called **convex** if:\n",
    "\n",
    "$$  \\forall x_1,x_2 \\in X,\\;\\; \\forall \\lambda \\in [0,1]:$$\n",
    "\n",
    "$$f(\\lambda x_1 + (1-\\lambda)x_2) \\;\\; \\leq \\;\\;  \\lambda f(x_1) + (1- \\lambda)f(x_2) $$\n",
    "\n",
    "$ f $ is called **strictly convex** if:\n",
    "\n",
    "$$  \\forall x_1 \\neq x_2 \\in X,\\;\\; \\forall \\lambda \\in (0,1):$$\n",
    "\n",
    "$$f(\\lambda x_1 + (1-\\lambda)x_2) \\;\\; < \\;\\;  \\lambda f(x_1) + (1- \\lambda)f(x_2) $$\n",
    "\n",
    "\n",
    "**Example** $ f(x) = x^2 $"
   ]
  },
  {
   "cell_type": "code",
   "execution_count": 3,
   "metadata": {},
   "outputs": [],
   "source": [
    "lam = 0.5                 #  Define lambda\n",
    "convex_set = [1,2,3,4,5]  #  Define a convex set \n",
    "x1 = convex_set[0]        #  Get a point from convex set\n",
    "x2 = convex_set[3]        #  Get another point from convex set \n",
    "\n",
    "### Define function ###\n",
    "f  =  lambda x: x**2"
   ]
  },
  {
   "cell_type": "code",
   "execution_count": null,
   "metadata": {},
   "outputs": [],
   "source": [
    "f(lam*x)"
   ]
  }
 ],
 "metadata": {
  "kernelspec": {
   "display_name": "machine_learning_env",
   "language": "python",
   "name": "machine_learning_env"
  },
  "language_info": {
   "codemirror_mode": {
    "name": "ipython",
    "version": 3
   },
   "file_extension": ".py",
   "mimetype": "text/x-python",
   "name": "python",
   "nbconvert_exporter": "python",
   "pygments_lexer": "ipython3",
   "version": "3.7.7"
  }
 },
 "nbformat": 4,
 "nbformat_minor": 4
}
