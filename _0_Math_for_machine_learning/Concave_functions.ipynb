{
 "cells": [
  {
   "cell_type": "markdown",
   "metadata": {},
   "source": [
    "# Convex and Concave functions\n",
    "\n",
    "But first, a reminder on a convex Set:\n",
    "\n",
    "In geometry, a subset of an Euclidean space, or more generally an affine space over the reals, is convex if, given any two points, it contains the whole line segment that joins them. \n",
    "\n",
    "![Convex](images\\convex_set.PNG)\n",
    "\n",
    "Let $ X $ be a convex set in a real `vector space` and let $ f: X \\to R$ be  a function.\n",
    "\n",
    "$ f $ is called **convex** if:\n",
    "\n",
    "$$  \\forall x_1,x_2 \\in X,\\;\\; \\forall \\lambda \\in [0,1]:$$\n",
    "\n",
    "$$f(\\lambda x_1 + (1-\\lambda)x_2) \\;\\; \\leq \\;\\;  \\lambda f(x_1) + (1- \\lambda)f(x_2) $$\n",
    "\n",
    "$ f $ is called **strictly convex** if:\n",
    "\n",
    "$$  \\forall x_1 \\neq x_2 \\in X,\\;\\; \\forall \\lambda \\in (0,1):$$\n",
    "\n",
    "$$f(\\lambda x_1 + (1-\\lambda)x_2) \\;\\; < \\;\\;  \\lambda f(x_1) + (1- \\lambda)f(x_2) $$\n",
    "\n",
    "You can thing of this as a weighted average, what this is saying is that the function evaluated at the  weighted average of the points should be lessthan the line that is form from the points.\n",
    "\n",
    "**Example** $ f(x) = x^2 $"
   ]
  },
  {
   "cell_type": "code",
   "execution_count": 60,
   "metadata": {},
   "outputs": [],
   "source": [
    "import numpy as np\n",
    "import matplotlib.pyplot as plt\n",
    "from ipywidgets import interact, interactive, fixed, interact_manual"
   ]
  },
  {
   "cell_type": "code",
   "execution_count": 21,
   "metadata": {},
   "outputs": [
    {
     "name": "stdout",
     "output_type": "stream",
     "text": [
      "function  x^2 is concave: True\n"
     ]
    }
   ],
   "source": [
    "lam = 0.5                 #  Define lambda\n",
    "convex_set = [1,2,3,4,5]  #  Define a convex set \n",
    "x1 = convex_set[0]        #  Get a point from convex set\n",
    "x2 = convex_set[3]        #  Get another point from convex set \n",
    "\n",
    "### Define function ###\n",
    "f  =  lambda x: x**2\n",
    "\n",
    "is_concave = f(lam*x1 + (1-lam)*x2) <= lam*f(x1) + (1-lam)*f(x2)\n",
    "print(f\"function  x^2 is concave: {is_concave }\")"
   ]
  },
  {
   "cell_type": "code",
   "execution_count": 80,
   "metadata": {},
   "outputs": [],
   "source": [
    "def concave_x2(x1=-5,x2=5,lam = 0.5):\n",
    "   \n",
    "    ### Prepare function for plotting\n",
    "    a   = -10                # Define sup of set\n",
    "    b   =  10                # Define inf of set \n",
    "    x = np.linspace(a,b,100) # Define concave set \n",
    "    y = f(x)                 # Evaluate function on cocave set \n",
    "    f1 = f(x1)               \n",
    "    f2 = f(x2)\n",
    "    \n",
    "    eval_point = lam*x1 + (1-lam)*x2\n",
    "    eval_lower = f(lam*x1 + (1-lam)*x2)\n",
    "    \n",
    "    eval_greater = lam*f(x1) + (1-lam)*f(x2)\n",
    "\n",
    "    figure, ax =  plt.subplots(ncols=1,nrows=1,figsize=(8,7))\n",
    "    ax.set_title(\"$X^2$\")\n",
    "    ax.set_xlabel(\"$x$\")\n",
    "    ax.set_ylabel(\"$f(x)$\")\n",
    "    ax.plot(x,y)\n",
    "    ax.plot([x1,x2],[f1,f2])\n",
    "    ax.plot(eval_point,eval_lower,\"*r\")\n",
    "    ax.plot(eval_point,eval_greater,\"og\")\n",
    "    plt.show()\n",
    "    "
   ]
  },
  {
   "cell_type": "code",
   "execution_count": 82,
   "metadata": {
    "scrolled": false
   },
   "outputs": [
    {
     "data": {
      "application/vnd.jupyter.widget-view+json": {
       "model_id": "11db0278bfbc432da13c887f75c2ec83",
       "version_major": 2,
       "version_minor": 0
      },
      "text/plain": [
       "interactive(children=(IntSlider(value=-5, description='x1', max=10, min=-10), IntSlider(value=5, description='…"
      ]
     },
     "metadata": {},
     "output_type": "display_data"
    },
    {
     "data": {
      "text/plain": [
       "<function __main__.concave_x2(x1=-5, x2=5, lam=0.5)>"
      ]
     },
     "execution_count": 82,
     "metadata": {},
     "output_type": "execute_result"
    }
   ],
   "source": [
    "interact(concave_x2,x1=(-10,10,1),x2=(-10,10,1),lam=(0.1,0.9,0.1))"
   ]
  },
  {
   "cell_type": "markdown",
   "metadata": {},
   "source": [
    "Notice that:\n",
    "$$  \\forall x_1 \\neq x_2 \\in X,\\;\\; \\forall \\lambda \\in (0,1):$$\n",
    "\n",
    "$$ (\\lambda x_1 + (1-\\lambda)x_2)^2 \\;\\; < \\;\\;  \\lambda (x_1)^2 + (1- \\lambda)(x_2)^2 $$\n",
    "\n",
    "In simpler words: the green point is always \"higher\" than the red point, therfore we can confirm that $f(x) = x^2$ is  **strictly convex**"
   ]
  }
 ],
 "metadata": {
  "kernelspec": {
   "display_name": "machine_learning_env",
   "language": "python",
   "name": "machine_learning_env"
  },
  "language_info": {
   "codemirror_mode": {
    "name": "ipython",
    "version": 3
   },
   "file_extension": ".py",
   "mimetype": "text/x-python",
   "name": "python",
   "nbconvert_exporter": "python",
   "pygments_lexer": "ipython3",
   "version": "3.7.7"
  }
 },
 "nbformat": 4,
 "nbformat_minor": 4
}
