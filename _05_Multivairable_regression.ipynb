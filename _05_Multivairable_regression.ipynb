{
 "cells": [
  {
   "cell_type": "code",
   "execution_count": 1,
   "metadata": {},
   "outputs": [],
   "source": [
    "import tacos  as tc\n",
    "import pandas as pd\n",
    "import numpy as np\n",
    "from matplotlib import pyplot as plt"
   ]
  },
  {
   "cell_type": "markdown",
   "metadata": {},
   "source": [
    "# 1.- Multivariable Linear Regression by least Squares:\n",
    "The simplest example of a least squares approximation is fitting a line to a set of observations defined by points: $ (x_1,y_1),(x_2,y_2),...,(x_n,y_n)$ $=  [x_i,y_i ....i=n]$ to the mathematical expression for a stright line:  \n",
    "$$y=\\theta_2x2 + \\theta_1x1 + \\theta_0x0$$\n",
    "\n",
    "$$ y= \\Theta X^T = \\Theta \\begin{bmatrix}\n",
    "- & x_1^{T} & -\\\\\n",
    "- & x_2^{T} & -  \\\\\n",
    "- & . & - \\\\\n",
    "- & . & - \\\\\n",
    "- & . & - \\\\\n",
    "- & x_m^{T} & - \\\\\n",
    "\\end{bmatrix}$$\n",
    "where $e$ is the error or difference of the model with rispect to the observations: $ e = y-a_o-a_1x $\n",
    "<br>"
   ]
  },
  {
   "cell_type": "code",
   "execution_count": 12,
   "metadata": {},
   "outputs": [],
   "source": [
    "#### Unvectorized Implementation ####\n",
    "\n",
    "def gradient_descent_linear_regression(x,y,a,iteration):\n",
    "    m=len(y)\n",
    "    theta_0= np.random.random(1)\n",
    "    theta_1= np.random.random(1)\n",
    "    error=np.zeros(iter)\n",
    "    \n",
    "    for j in range(0,iteration): \n",
    "        h=theta_1*x + theta_0\n",
    "        e0=0\n",
    "        e1=0\n",
    "\n",
    "        for i in range(0,len(y)):\n",
    "            e0= e0 + h[i]-y[i]\n",
    "            e1= e1 + (h[i]-y[i])*x[i]\n",
    "            \n",
    "        theta_0= theta_0 - ((a/m)*e0)\n",
    "        theta_1= theta_1 - ((a/m)*e1)\n",
    "       \n",
    "\n",
    "    \n",
    "    return (theta_0,theta_1)\n",
    "\n",
    "def gradient_descent_multiveriable_linear_regression(X,Y,a,iteration):\n",
    " \n",
    "    m=len(Y)\n",
    "    x0=X[:,0]\n",
    "    x1=X[:,1]\n",
    "    x2=X[:,2]\n",
    "    theta_0= np.random.random(1)\n",
    "    theta_1= np.random.random(1)\n",
    "    theta_2= np.random.random(1)\n",
    "    error=np.zeros(iter)\n",
    "    \n",
    "    for j in range(0,iter): \n",
    "        \n",
    "        h=theta_2*x2 + theta_1*x1 + theta_0*x0\n",
    "        e0=0\n",
    "        e1=0\n",
    "        e2=0\n",
    "        \n",
    "        for k in range(0,m):\n",
    "            error[j]= error[j] + (h[k]-Y[k])**2\n",
    "        error[j]= error[j]/(2*m)\n",
    "            \n",
    "        \n",
    "        for i in range(0,m):\n",
    "            e0= e0 + (h[i]-Y[i])*x0[i]\n",
    "            e1= e1 + (h[i]-Y[i])*x1[i]\n",
    "            e2= e1 + (h[i]-Y[i])*x2[i]\n",
    "            \n",
    "        theta_0= theta_0 - ((a/m)*e0)\n",
    "        theta_1= theta_1 - ((a/m)*e1)\n",
    "        theta_2= theta_2 - ((a/m)*e2)\n",
    "    \n",
    "    return (theta_0,theta_1,theta_2,error)\n",
    "\n",
    "\n",
    "def add_ones(data):\n",
    "    n=data.shape[0]\n",
    "    m=data.shape[1]\n",
    "    n_m=np.ones([n,m+1])\n",
    "    n_m=n_m.astype('float64')\n",
    "    for j in range(0,m):\n",
    "        for i in range(0,n):\n",
    "            n_m[i,j+1]=data[i,j]\n",
    "    return n_m"
   ]
  },
  {
   "cell_type": "code",
   "execution_count": 75,
   "metadata": {},
   "outputs": [],
   "source": [
    "##### Vecotrized Implementation ####\n",
    "### Define Norms and their Respective Gradients ####\n",
    "\n",
    "## L2 NORM ###\n",
    "def L2_Norm(X,y,W):\n",
    "    N = len(X)\n",
    "    return 1/N*((X.dot(W) - y)**2).sum()\n",
    "\n",
    "def L2_Norm_gradient(X,y,W):\n",
    "    N = len(X)\n",
    "    return (2/N)*(X.T).dot(X.dot(W) - y)\n",
    "\n",
    "\n",
    "def L2_Norm_Gradient_descent(X,y,W,a,epochs):\n",
    "    loss=[]\n",
    "    N = len(y)\n",
    "    for i in range(0,epochs):\n",
    "         ### Compute gradient ###\n",
    "        dW = L2_Norm_gradient(X,y,W)\n",
    "        \n",
    "        ### Gradient Descent ###\n",
    "        W = W - a*dW\n",
    "        \n",
    "        loss.append(a*L2_Norm(X,y,W))\n",
    "    \n",
    "    y_hat = X.dot(W)\n",
    "    y_mean = y.sum()/N\n",
    "    st = ((y-y_mean)**2).sum()   # Standar deviation  of data\n",
    "    sr = ((y-y_hat)**2 ).sum()   # standard deviation of prediction\n",
    "    r2   = (st-sr)/st            # R2 coefficient\n",
    "    \n",
    "    return W,loss,r2\n",
    "        \n",
    "    \n",
    "\n",
    "        \n",
    "def plot_loss(loss,X,y,W,r2,name=\"L2\"):\n",
    "   \n",
    "    fig,ax = plt.subplots(ncols=2,nrows=1,figsize=(15,7))\n",
    "    \n",
    "    ### PLOT LOSS ###\n",
    "    iterations = list(range(0,len(loss)))\n",
    "    ax[0].plot(iterations,loss,\"b--\",label =\"loss\")\n",
    "    ax[0].legend(loc=\"lower right\")\n",
    "    ax[0].set_xlabel(\"iterations\")\n",
    "    ax[0].set_ylabel(\"loss \")\n",
    "    ax[0].set_title(f\"Linear Regression with {name} Norm loss={loss[-1]:2f}\")\n",
    "    ax[0].grid(\"on\")\n",
    "    \n",
    "    ### PLOT  Data ###\n",
    "    y_hat = X.dot(W)\n",
    "    x = X[:,1]\n",
    "    ax[1].plot(x,y_hat,\"b--\",label =\"prediction\")\n",
    "    ax[1].plot(x,y,\"r*\",label='data')\n",
    "    ax[1].legend(loc=\"lower right\")\n",
    "    ax[1].set_xlabel(\"x\")\n",
    "    ax[1].set_ylabel(\"y\")\n",
    "    ax[1].set_title(f\"Linear Regression with {name} Norm:  r2={r2:2f}\")\n",
    "    plt.grid(\"on\")\n",
    "    plt.show()"
   ]
  },
  {
   "cell_type": "markdown",
   "metadata": {},
   "source": [
    "######  Before starting with multivariable  linear regression lets solve a bigdata  linear regresion $ h= \\theta_1x1 + \\theta_0 $ problem"
   ]
  },
  {
   "cell_type": "code",
   "execution_count": 76,
   "metadata": {},
   "outputs": [
    {
     "data": {
      "text/html": [
       "<div>\n",
       "<style scoped>\n",
       "    .dataframe tbody tr th:only-of-type {\n",
       "        vertical-align: middle;\n",
       "    }\n",
       "\n",
       "    .dataframe tbody tr th {\n",
       "        vertical-align: top;\n",
       "    }\n",
       "\n",
       "    .dataframe thead th {\n",
       "        text-align: right;\n",
       "    }\n",
       "</style>\n",
       "<table border=\"1\" class=\"dataframe\">\n",
       "  <thead>\n",
       "    <tr style=\"text-align: right;\">\n",
       "      <th></th>\n",
       "      <th>6.1101</th>\n",
       "      <th>17.592</th>\n",
       "    </tr>\n",
       "  </thead>\n",
       "  <tbody>\n",
       "    <tr>\n",
       "      <th>0</th>\n",
       "      <td>5.5277</td>\n",
       "      <td>9.1302</td>\n",
       "    </tr>\n",
       "    <tr>\n",
       "      <th>1</th>\n",
       "      <td>8.5186</td>\n",
       "      <td>13.6620</td>\n",
       "    </tr>\n",
       "    <tr>\n",
       "      <th>2</th>\n",
       "      <td>7.0032</td>\n",
       "      <td>11.8540</td>\n",
       "    </tr>\n",
       "    <tr>\n",
       "      <th>3</th>\n",
       "      <td>5.8598</td>\n",
       "      <td>6.8233</td>\n",
       "    </tr>\n",
       "    <tr>\n",
       "      <th>4</th>\n",
       "      <td>8.3829</td>\n",
       "      <td>11.8860</td>\n",
       "    </tr>\n",
       "  </tbody>\n",
       "</table>\n",
       "</div>"
      ],
      "text/plain": [
       "   6.1101   17.592\n",
       "0  5.5277   9.1302\n",
       "1  8.5186  13.6620\n",
       "2  7.0032  11.8540\n",
       "3  5.8598   6.8233\n",
       "4  8.3829  11.8860"
      ]
     },
     "execution_count": 76,
     "metadata": {},
     "output_type": "execute_result"
    }
   ],
   "source": [
    "data = pd.read_csv(r'datasets\\ex1data1.txt') \n",
    "data_n = data.values\n",
    "x=data_n[:,0]\n",
    "y=data_n[:,1]\n",
    "data.head() #showing data head"
   ]
  },
  {
   "cell_type": "code",
   "execution_count": 77,
   "metadata": {},
   "outputs": [
    {
     "data": {
      "image/png": "[encoded data removed]",
      "text/plain": [
       "<Figure size 1080x504 with 2 Axes>"
      ]
     },
     "metadata": {
      "needs_background": "light"
     },
     "output_type": "display_data"
    }
   ],
   "source": [
    "x0 = np.ones_like(x)\n",
    "X  = np.stack((x0,x)).T\n",
    "y1 = y.reshape(-1,1)\n",
    "\n",
    "W = np.array([[1],[5]])                                           # Intial Guess For W\n",
    "W, loss,r2 = L2_Norm_Gradient_descent(X,y1,W,a=0.0001,epochs=500) # Compute Gradient Descent with L2 Norm\n",
    "plot_loss(loss,X,y1,W,r2,name=\"L2\")"
   ]
  },
  {
   "cell_type": "code",
   "execution_count": 80,
   "metadata": {},
   "outputs": [
    {
     "data": {
      "text/html": [
       "<div>\n",
       "<style scoped>\n",
       "    .dataframe tbody tr th:only-of-type {\n",
       "        vertical-align: middle;\n",
       "    }\n",
       "\n",
       "    .dataframe tbody tr th {\n",
       "        vertical-align: top;\n",
       "    }\n",
       "\n",
       "    .dataframe thead th {\n",
       "        text-align: right;\n",
       "    }\n",
       "</style>\n",
       "<table border=\"1\" class=\"dataframe\">\n",
       "  <thead>\n",
       "    <tr style=\"text-align: right;\">\n",
       "      <th></th>\n",
       "      <th>2104</th>\n",
       "      <th>3</th>\n",
       "      <th>399900</th>\n",
       "    </tr>\n",
       "  </thead>\n",
       "  <tbody>\n",
       "    <tr>\n",
       "      <th>0</th>\n",
       "      <td>1600</td>\n",
       "      <td>3</td>\n",
       "      <td>329900</td>\n",
       "    </tr>\n",
       "    <tr>\n",
       "      <th>1</th>\n",
       "      <td>2400</td>\n",
       "      <td>3</td>\n",
       "      <td>369000</td>\n",
       "    </tr>\n",
       "    <tr>\n",
       "      <th>2</th>\n",
       "      <td>1416</td>\n",
       "      <td>2</td>\n",
       "      <td>232000</td>\n",
       "    </tr>\n",
       "    <tr>\n",
       "      <th>3</th>\n",
       "      <td>3000</td>\n",
       "      <td>4</td>\n",
       "      <td>539900</td>\n",
       "    </tr>\n",
       "    <tr>\n",
       "      <th>4</th>\n",
       "      <td>1985</td>\n",
       "      <td>4</td>\n",
       "      <td>299900</td>\n",
       "    </tr>\n",
       "  </tbody>\n",
       "</table>\n",
       "</div>"
      ],
      "text/plain": [
       "   2104  3  399900\n",
       "0  1600  3  329900\n",
       "1  2400  3  369000\n",
       "2  1416  2  232000\n",
       "3  3000  4  539900\n",
       "4  1985  4  299900"
      ]
     },
     "execution_count": 80,
     "metadata": {},
     "output_type": "execute_result"
    }
   ],
   "source": [
    "data = pd.read_csv(r'datasets\\ex1data2.txt') \n",
    "data_n=data.values\n",
    "data.head() #showing data head"
   ]
  },
  {
   "cell_type": "code",
   "execution_count": 81,
   "metadata": {},
   "outputs": [
    {
     "data": {
      "text/html": [
       "<div>\n",
       "<style scoped>\n",
       "    .dataframe tbody tr th:only-of-type {\n",
       "        vertical-align: middle;\n",
       "    }\n",
       "\n",
       "    .dataframe tbody tr th {\n",
       "        vertical-align: top;\n",
       "    }\n",
       "\n",
       "    .dataframe thead th {\n",
       "        text-align: right;\n",
       "    }\n",
       "</style>\n",
       "<table border=\"1\" class=\"dataframe\">\n",
       "  <thead>\n",
       "    <tr style=\"text-align: right;\">\n",
       "      <th></th>\n",
       "      <th>x0</th>\n",
       "      <th>x1</th>\n",
       "      <th>x2</th>\n",
       "      <th>y</th>\n",
       "    </tr>\n",
       "  </thead>\n",
       "  <tbody>\n",
       "    <tr>\n",
       "      <th>0</th>\n",
       "      <td>1.0</td>\n",
       "      <td>-0.501458</td>\n",
       "      <td>-0.228665</td>\n",
       "      <td>-0.073918</td>\n",
       "    </tr>\n",
       "    <tr>\n",
       "      <th>1</th>\n",
       "      <td>1.0</td>\n",
       "      <td>0.505398</td>\n",
       "      <td>-0.228665</td>\n",
       "      <td>0.239571</td>\n",
       "    </tr>\n",
       "    <tr>\n",
       "      <th>2</th>\n",
       "      <td>1.0</td>\n",
       "      <td>-0.733034</td>\n",
       "      <td>-1.543487</td>\n",
       "      <td>-0.858844</td>\n",
       "    </tr>\n",
       "    <tr>\n",
       "      <th>3</th>\n",
       "      <td>1.0</td>\n",
       "      <td>1.260539</td>\n",
       "      <td>1.086158</td>\n",
       "      <td>1.609783</td>\n",
       "    </tr>\n",
       "    <tr>\n",
       "      <th>4</th>\n",
       "      <td>1.0</td>\n",
       "      <td>-0.016909</td>\n",
       "      <td>1.086158</td>\n",
       "      <td>-0.314447</td>\n",
       "    </tr>\n",
       "  </tbody>\n",
       "</table>\n",
       "</div>"
      ],
      "text/plain": [
       "    x0        x1        x2         y\n",
       "0  1.0 -0.501458 -0.228665 -0.073918\n",
       "1  1.0  0.505398 -0.228665  0.239571\n",
       "2  1.0 -0.733034 -1.543487 -0.858844\n",
       "3  1.0  1.260539  1.086158  1.609783\n",
       "4  1.0 -0.016909  1.086158 -0.314447"
      ]
     },
     "execution_count": 81,
     "metadata": {},
     "output_type": "execute_result"
    }
   ],
   "source": [
    "data_s=tc.standarization(data_n)\n",
    "data_s=add_ones(data_s)\n",
    "df = pd.DataFrame(data=data_s,columns=[\"x0\", \"x1\",\"x2\",\"y\"])\n",
    "df.head()"
   ]
  },
  {
   "cell_type": "code",
   "execution_count": 82,
   "metadata": {},
   "outputs": [
    {
     "name": "stdout",
     "output_type": "stream",
     "text": [
      "(46, 3)\n",
      "(46, 1)\n"
     ]
    }
   ],
   "source": [
    "x=data_s[:,:-1]\n",
    "y=data_s[:,-1]\n",
    "y1 = y.reshape(-1,1)\n",
    "print(x.shape)\n",
    "print(y1.shape)"
   ]
  },
  {
   "cell_type": "code",
   "execution_count": 83,
   "metadata": {},
   "outputs": [
    {
     "data": {
      "image/png": "[encoded data removed]",
      "text/plain": [
       "<Figure size 1080x504 with 2 Axes>"
      ]
     },
     "metadata": {
      "needs_background": "light"
     },
     "output_type": "display_data"
    }
   ],
   "source": [
    "W = np.array([[1],[2],[0.2]])                                           # Intial Guess For W\n",
    "W, loss,r2 = L2_Norm_Gradient_descent(x,y1,W,a=0.01,epochs=45000) # Compute Gradient Descent with L2 Norm\n",
    "plot_loss(loss,x,y1,W,r2,name=\"L2\")"
   ]
  },
  {
   "cell_type": "markdown",
   "metadata": {},
   "source": [
    "## 2.- Linear Regression by Ortogonal Proyections:\n",
    "In General we can write a function:\n",
    "$$n=a_0+a_1x+a_2x^2 + ... + a_mx^m + e$$\n",
    "as:\n",
    "$$ Xa=y $$\n",
    "\n",
    "where $ X = [1^T x^T x^{2T} ... x^{nT}]  \\in R^{nxm}$ and $ y \\in R^{nx1} $ , $n=$ Number of data points , $m=$ Degree of polynomial.\n",
    "\n",
    "How to solve this?\n",
    "$$ X^TXa=X^Ty $$\n",
    "Therfore:\n",
    "$$ a=(X^TX)^{-1}X^Ty $$"
   ]
  },
  {
   "cell_type": "code",
   "execution_count": 94,
   "metadata": {},
   "outputs": [
    {
     "data": {
      "image/png": "[encoded data removed]",
      "text/plain": [
       "<Figure size 432x288 with 1 Axes>"
      ]
     },
     "metadata": {
      "needs_background": "light"
     },
     "output_type": "display_data"
    }
   ],
   "source": [
    "### close solutio\n",
    "T=((np.linalg.inv(x.T.dot(x))).dot(x.T)).dot(y1)\n",
    "plt.plot(x[:,1],y1,\"*\")\n",
    "plt.plot(x[:,1],(T[2]*x[:,2] + T[1]*x[:,1] + T[0]*x[:,0]),\"*\")\n",
    "plt.xlabel(\"x1\")\n",
    "plt.ylabel(\"prediction\")\n",
    "plt.title(\"Multi linear regression closed solution\")\n",
    "plt.show()"
   ]
  }
 ],
 "metadata": {
  "kernelspec": {
   "display_name": "machine_learning_env",
   "language": "python",
   "name": "machine_learning_env"
  },
  "language_info": {
   "codemirror_mode": {
    "name": "ipython",
    "version": 3
   },
   "file_extension": ".py",
   "mimetype": "text/x-python",
   "name": "python",
   "nbconvert_exporter": "python",
   "pygments_lexer": "ipython3",
   "version": "3.7.7"
  }
 },
 "nbformat": 4,
 "nbformat_minor": 4
}
