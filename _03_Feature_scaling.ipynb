{
 "cells": [
  {
   "cell_type": "markdown",
   "metadata": {},
   "source": [
    "# Feature Scaling \n",
    "Feature Scaling is a technique to standardize the independent features present in the data in a fixed range. It is performed during the data pre-processing to handle highly varying magnitudes or values or units. If feature scaling is not done, then a machine learning algorithm tends to weigh greater values, higher and consider smaller values as the lower values, regardless of the unit of the values.\n",
    "\n",
    "Example: If an algorithm is not using feature scaling method then it can consider the value 3000 meter to be greater than 5 km but that’s actually not true and in this case, the algorithm will give wrong predictions. So, we use Feature Scaling to bring all values to same magnitudes and thus, tackle this issue.\n",
    "\n",
    "### Techniques to perform Feature Scaling\n",
    "\n",
    "Consider the two most important ones:\n",
    "\n",
    "For this lets consider a  dataset:\n",
    "$$ X = \\begin{bmatrix}\n",
    "- & x_1^{T} & -\\\\\n",
    "- & x_2^{T} & -  \\\\\n",
    "- & . & - \\\\\n",
    "- & . & - \\\\\n",
    "- & . & - \\\\\n",
    "- & x_m^{T} & - \\\\\n",
    "\\end{bmatrix}$$\n",
    "\n",
    "Where $x_i \\in R^{(n\\;,\\;1)}$ is by nature a row vector, therefore$X \\in R^{(n\\;,\\;m)}$ Where $m$ is the number of of features and $n$ is the dataset's lenght\n",
    "\n",
    "Before applying feature Scaling is a good practice to skew our data, a simple approach to achive this goal is to apply the natural long of the data, this way we wish to obtain something similar to  a normal (gaussian) distribution\n",
    "\n",
    "#### Min-Max Normalization:\n",
    "This technique re-scales a feature or observation value with distribution value between 0 and 1.\n",
    "\n",
    "$$ X_{new} = \\frac{X_i - min(X)}{max(X) - min(X)} $$\n",
    "\n",
    "#### Standardization: \n",
    "It is a very effective technique which re-scales a feature value so that it has distribution with 0 mean value and variance equals to 1.\n",
    "\n",
    "$$ X_{new} = \\frac{X_i - \\bar{X}}{X_{std}} $$\n",
    "\n",
    "Where:\n",
    "<br>\n",
    "The **Mean**is defined as:\n",
    "$$\\bar{X} = \\frac{\\sum_{i=1}^{n} x_i}{n}$$\n",
    "\n",
    "The **Standard Deviation** is defined as:\n",
    "$$\\bar{X} = \\sqrt{\\frac{\\sum_{i=1}^{n} (x_i-\\bar{x})^2}{n}}$$"
   ]
  },
  {
   "cell_type": "code",
   "execution_count": 1,
   "metadata": {},
   "outputs": [],
   "source": [
    "import numpy as np\n",
    "import pandas as pd\n",
    "from skimage import io\n",
    "from matplotlib import pyplot as plt\n",
    "from mpl_toolkits.axes_grid1 import make_axes_locatable"
   ]
  },
  {
   "cell_type": "markdown",
   "metadata": {},
   "source": [
    "### Unskew Data"
   ]
  },
  {
   "cell_type": "code",
   "execution_count": 2,
   "metadata": {},
   "outputs": [],
   "source": [
    "def unskew_data(data):\n",
    "    \"\"\" Unskew data by applying ln(data)\"\"\"\n",
    "    return np.log(data)\n",
    "    "
   ]
  },
  {
   "cell_type": "markdown",
   "metadata": {},
   "source": [
    "###  Standarization "
   ]
  },
  {
   "cell_type": "code",
   "execution_count": 3,
   "metadata": {},
   "outputs": [],
   "source": [
    "### MEAN Unvectorized implementation ###\n",
    "def mean(data):\n",
    "    \"\"\" returns Mean of  Rows of a Matrix \"\"\"\n",
    "    N,M = data.shape              # Get n (lenght) and m (features)\n",
    "    Mean_vector = np.zeros((1,M)) # Create a vector to store mean\n",
    "    \n",
    "    for m in range(0,M):                      # Iterate over features\n",
    "        for n in range(0,N):                  # Iterate over Data\n",
    "            Mean_vector[0,m] += data[n,m]      # Add up the data\n",
    "        Mean_vector[0,m] = Mean_vector[0,m]/N  # Divided by length\n",
    "    \n",
    "    return Mean_vector\n",
    "\n",
    "\n",
    "### Standard Deviation Unvectorized implementation ###\n",
    "def std(data):\n",
    "    \"\"\" returns Standard Deviation of  Rows of a Matrix \"\"\"\n",
    "    N,M = data.shape              # Get n (lenght) and m (features)\n",
    "    Mean_vector = mean(data)      # Get mean vector \n",
    "    std_vector  = np.zeros((1,M)) # Create a vector to store mean\n",
    "    \n",
    "    for m in range(0,M):                      # Iterate over features\n",
    "        for n in range(0,N):                  # Iterate over Data\n",
    "            std_vector[0,m] += (data[n,m] - Mean_vector[0,m])**2     \n",
    "        std_vector[0,m] = np.sqrt(std_vector[0,m]/N)   \n",
    "        \n",
    "    return std_vector\n",
    "\n",
    "\n",
    "## Standarzation Unvectorized implementation ###\n",
    "def standarization(data):\n",
    "    \"\"\"Returns standarized Matrix\"\"\"\n",
    "    N,M = data.shape                           # Get n (lenght) and m (features)\n",
    "    Mean_vector = mean(data)                   # Get mean vector\n",
    "    std_vector  = std(data)                    # Get std vector\n",
    "    s_data = np.zeros((N,M),dtype=np.float32)  # Get A matrix of zeros with float type \n",
    "    for m in range(0,M):           # Iterate over features\n",
    "        for n in range(0,N):       # Iterate over Data\n",
    "            s_data[n,m] = (data[n,m]-Mean_vector[0,m])/std_vector[0,m]\n",
    "    return s_data\n",
    "\n",
    "\n",
    "### Standarzation Vecotrized Implementation ###\n",
    "def standarization_v(data):\n",
    "    \"\"\"Returns standarized Matrix\"\"\"\n",
    "    mean = data.mean(axis=0)\n",
    "    std  = data.std(axis=0)\n",
    "    s_data = (data -  mean )/std\n",
    "    \n",
    "    return s_data\n",
    "\n",
    "### Visual aid to caompare data ###\n",
    "def Plot_before_after(data,data_s):\n",
    "    \"\"\" Plot Data bedore and after porepocessing\"\"\"\n",
    "    fig, axis = plt.subplots(ncols=2,nrows=1,figsize=(8,6))\n",
    "    ax = axis.flatten()\n",
    "\n",
    "    #### data ####\n",
    "    divider = make_axes_locatable(ax[0])\n",
    "    cax = divider.append_axes('right', size='50%', pad=0.1)\n",
    "    im = ax[0].matshow(data)\n",
    "    fig.colorbar(im, cax=cax, orientation='vertical')\n",
    "    ax[0].set_title(\"Raw Data\")\n",
    "\n",
    "    ### Standarized ###\n",
    "    divider = make_axes_locatable(ax[1])\n",
    "    cax = divider.append_axes('right', size='50%', pad=0.1)\n",
    "    im = ax[1].matshow(data_s)\n",
    "    fig.colorbar(im, cax=cax, orientation='vertical')\n",
    "    ax[1].set_title(\"Preprocessed Data\")\n",
    "    plt.show()\n",
    "    \n",
    "def look_at_distribution(data,color=\"tab:blue\"):\n",
    "    '''Look at the distributions '''\n",
    "\n",
    "    fig,axis = plt.subplots(1,3,figsize=(15,4)) # Create subplots\n",
    "    ax = axis.flatten()                         # Flatten axis\n",
    "    \n",
    "    ### Iterate over columns ###\n",
    "    for i,col in enumerate(data.columns):        \n",
    "        ax[i].hist(data.loc[:, col], color = color) # Plot histogram\n",
    "        ax[i].set_title(f\"Colum {i}\")               # Set title \n",
    "\n",
    "    plt.show()                                      # plot figure"
   ]
  },
  {
   "cell_type": "code",
   "execution_count": 7,
   "metadata": {},
   "outputs": [
    {
     "data": {
      "text/html": [
       "<div>\n",
       "<style scoped>\n",
       "    .dataframe tbody tr th:only-of-type {\n",
       "        vertical-align: middle;\n",
       "    }\n",
       "\n",
       "    .dataframe tbody tr th {\n",
       "        vertical-align: top;\n",
       "    }\n",
       "\n",
       "    .dataframe thead th {\n",
       "        text-align: right;\n",
       "    }\n",
       "</style>\n",
       "<table border=\"1\" class=\"dataframe\">\n",
       "  <thead>\n",
       "    <tr style=\"text-align: right;\">\n",
       "      <th></th>\n",
       "      <th>2104</th>\n",
       "      <th>3</th>\n",
       "      <th>399900</th>\n",
       "    </tr>\n",
       "  </thead>\n",
       "  <tbody>\n",
       "    <tr>\n",
       "      <th>41</th>\n",
       "      <td>2567</td>\n",
       "      <td>4</td>\n",
       "      <td>314000</td>\n",
       "    </tr>\n",
       "    <tr>\n",
       "      <th>42</th>\n",
       "      <td>1200</td>\n",
       "      <td>3</td>\n",
       "      <td>299000</td>\n",
       "    </tr>\n",
       "    <tr>\n",
       "      <th>43</th>\n",
       "      <td>852</td>\n",
       "      <td>2</td>\n",
       "      <td>179900</td>\n",
       "    </tr>\n",
       "    <tr>\n",
       "      <th>44</th>\n",
       "      <td>1852</td>\n",
       "      <td>4</td>\n",
       "      <td>299900</td>\n",
       "    </tr>\n",
       "    <tr>\n",
       "      <th>45</th>\n",
       "      <td>1203</td>\n",
       "      <td>3</td>\n",
       "      <td>239500</td>\n",
       "    </tr>\n",
       "  </tbody>\n",
       "</table>\n",
       "</div>"
      ],
      "text/plain": [
       "    2104  3  399900\n",
       "41  2567  4  314000\n",
       "42  1200  3  299000\n",
       "43   852  2  179900\n",
       "44  1852  4  299900\n",
       "45  1203  3  239500"
      ]
     },
     "execution_count": 7,
     "metadata": {},
     "output_type": "execute_result"
    }
   ],
   "source": [
    "data_df = pd.read_csv(r'datasets\\ex1data2.txt')  # Load Dataset\n",
    "data_df.tail()                                   # Show first 5 elements"
   ]
  },
  {
   "cell_type": "code",
   "execution_count": 272,
   "metadata": {},
   "outputs": [
    {
     "name": "stdout",
     "output_type": "stream",
     "text": [
      "Dataset shape: (46, 3)\n",
      "Unstandarized data mean: [1.99843478e+03 3.17391304e+00 3.39119457e+05], std: [7.94553160e+02 7.60558943e-01 1.24725198e+05]\n",
      "Standarized   data mean: [ 2.5915063e-09  1.8950390e-08 -1.2957531e-08], std: [0.9999999 1.        1.       ]\n"
     ]
    },
    {
     "data": {
      "image/png": "[encoded data removed]",
      "text/plain": [
       "<Figure size 576x432 with 4 Axes>"
      ]
     },
     "metadata": {
      "needs_background": "light"
     },
     "output_type": "display_data"
    }
   ],
   "source": [
    "space = \" \"                                             # Space variable for formatting \n",
    "data = data_df.values;                                  # Converting to a numpy array in order to work with data \n",
    "data_un = unskew_data(data)                             # Unskew data\n",
    "print(f\"Dataset shape: {data.shape}\")                   # Lets chake dimensions\n",
    "data_s = standarization(data_un)                        # Standarized data\n",
    "df = pd.DataFrame(data=data_s,columns=[\"x1\", \"x2\",\"y\"]) # Create padnas Data frame of standarized data \n",
    "df.head()                                               # Show head of standarized data \n",
    "\n",
    "############################ Tell the user some usefull information ##########################\n",
    "print(f\"Unstandarized data mean: {data.mean(axis=0)}, std: {data.std(axis=0)}\")\n",
    "print(f\"Standarized {space} data mean: {data_s.mean(axis=0)}, std: {data_s.std(axis=0)}\")\n",
    "\n",
    "Plot_before_after(data,data_s)                          # plot bedore and after\n"
   ]
  },
  {
   "cell_type": "code",
   "execution_count": 277,
   "metadata": {},
   "outputs": [
    {
     "data": {
      "image/png": "[encoded data removed]",
      "text/plain": [
       "<Figure size 1080x288 with 3 Axes>"
      ]
     },
     "metadata": {
      "needs_background": "light"
     },
     "output_type": "display_data"
    },
    {
     "data": {
      "image/png": "[encoded data removed]",
      "text/plain": [
       "<Figure size 1080x288 with 3 Axes>"
      ]
     },
     "metadata": {
      "needs_background": "light"
     },
     "output_type": "display_data"
    }
   ],
   "source": [
    "### PLot distributions ###\n",
    "look_at_distribution(data_df,color=\"tab:blue\")\n",
    "look_at_distribution(df,color=\"tab:green\")"
   ]
  },
  {
   "cell_type": "markdown",
   "metadata": {},
   "source": [
    "**Notes:**\n",
    "<br>\n",
    "* We have a dataset of 46 examples, each example with 3 features, notice that every feature is in a different scale.\n",
    "* In order to have a smooth Gradient descent we need  to scale the data.\n",
    "* After standarization the mean is close to 0 and the std close to 1.\n",
    "* Notices that the raw data is largerly imbalanced,if we traiend a machine learning algorithm with this dataset it would only take into account the 3rd feature.\n",
    "* After Standarization now all the features are balanced and will have a similar impact in the model."
   ]
  },
  {
   "cell_type": "markdown",
   "metadata": {},
   "source": [
    "### Min-Max Normalization"
   ]
  },
  {
   "cell_type": "code",
   "execution_count": 274,
   "metadata": {},
   "outputs": [],
   "source": [
    "## Min  Unvectorized implementation ###\n",
    "def mins(data):\n",
    "    \"\"\" Returns min of Mitrix's rows\"\"\"\n",
    "    N,M = data.shape              # Get n (lenght) and m (features)\n",
    "    Min_vector = np.zeros((1,M))  # Create a vector to store Min\n",
    "    \n",
    "    for m in range(0,M):              # Iterate over features\n",
    "        min_value = + np.inf          # Set min value to a Really high number\n",
    "        for n in range(0,N):          # Iterate over Data\n",
    "            if data[n,m] < min_value:  # If current value is less than min_value       \n",
    "                min_value = data[n,m]  # Save new min-value \n",
    "\n",
    "        Min_vector[0,m] =  min_value    # Once we iterate over m store value\n",
    "    \n",
    "    return  Min_vector\n",
    "\n",
    "## Max  Unvectorized implementation ###\n",
    "def maxs(data):\n",
    "    \"\"\" Returns min of Mitrix's rows\"\"\"\n",
    "    N,M = data.shape              # Get n (lenght) and m (features)\n",
    "    Max_vector = np.zeros((1,M))  # Create a vector to store Min\n",
    "    \n",
    "    for m in range(0,M):              # Iterate over features\n",
    "        max_value = - np.inf          # Set max value to a Really small number\n",
    "        for n in range(0,N):          # Iterate over Data\n",
    "            if data[n,m] > max_value:  # If current value is less than min_value       \n",
    "                max_value = data[n,m]  # Save new max-value \n",
    "\n",
    "        Max_vector[0,m] =  max_value    # Once we iterate over m store value\n",
    "    \n",
    "    return  Max_vector\n",
    "\n",
    "## Min-Max Unvectorized implementation ###\n",
    "def min_max_normalziation(data):\n",
    "    \"\"\"Returns standarized Matrix\"\"\"\n",
    "    N,M = data.shape                          # Get n (lenght) and m (features)\n",
    "    Min_vector =  mins(data)                  # Get min vector\n",
    "    Max_vector  = maxs(data)                   # Get max vector\n",
    "    s_data = np.zeros((N,M),dtype=np.float32)  # Get A matrix of zeros with float type \n",
    "    for m in range(0,M):           # Iterate over features\n",
    "        for n in range(0,N):       # Iterate over Data\n",
    "            s_data[n,m] = (data[n,m]-Min_vector[0,m])/(Max_vector[0,m] - Min_vector[0,m])\n",
    "    return s_data\n",
    "\n",
    "## Min-Max vectorized implementation ###\n",
    "def min_max_normalziationV(data):\n",
    "    \"\"\"Returns standarized Matrix\"\"\"\n",
    "    Min =  np.min(data,axis=0)      # Get min vector\n",
    "    Max =  np.max(data,axis=0)      # Get max vector\n",
    "    s_data = (data-Min)/(Max- Min)\n",
    "\n",
    "    return s_data"
   ]
  },
  {
   "cell_type": "code",
   "execution_count": 275,
   "metadata": {},
   "outputs": [
    {
     "name": "stdout",
     "output_type": "stream",
     "text": [
      "Dataset shape: (46, 3)\n",
      "Unormalized data mean: [1.99843478e+03 3.17391304e+00 3.39119457e+05], std: [7.94553160e+02 7.60558943e-01 1.24725198e+05]\n",
      "Normalized   data mean: [0.47192657 0.69620764 0.44546217], std: [0.22036217 0.17359985 0.24040419]\n"
     ]
    },
    {
     "data": {
      "image/png": "[encoded data removed]",
      "text/plain": [
       "<Figure size 576x432 with 4 Axes>"
      ]
     },
     "metadata": {
      "needs_background": "light"
     },
     "output_type": "display_data"
    }
   ],
   "source": [
    "space = \" \"                                             # Space variable for formatting \n",
    "data = data_df.values;                                  # Converting to a numpy array in order to work with data \n",
    "data_un = unskew_data(data)                             # Unskew data\n",
    "print(f\"Dataset shape: {data.shape}\")                   # Lets chake dimensions\n",
    "data_s = min_max_normalziationV(data_un)                # Normalized data data\n",
    "df = pd.DataFrame(data=data_s,columns=[\"x1\", \"x2\",\"y\"]) # Create padnas Data frame of standarized data \n",
    "df.head()                                               # Show head of standarized data \n",
    "\n",
    "############################ Tell the user some usefull information ##########################\n",
    "print(f\"Unormalized data mean: {data.mean(axis=0)}, std: {data.std(axis=0)}\")\n",
    "print(f\"Normalized {space} data mean: {data_s.mean(axis=0)}, std: {data_s.std(axis=0)}\")\n",
    "\n",
    "Plot_before_after(data,data_s)                          # plot bedore and after\n"
   ]
  },
  {
   "cell_type": "code",
   "execution_count": 276,
   "metadata": {},
   "outputs": [
    {
     "data": {
      "image/png": "[encoded data removed]",
      "text/plain": [
       "<Figure size 1080x288 with 3 Axes>"
      ]
     },
     "metadata": {
      "needs_background": "light"
     },
     "output_type": "display_data"
    },
    {
     "data": {
      "image/png": "[encoded data removed]",
      "text/plain": [
       "<Figure size 1080x288 with 3 Axes>"
      ]
     },
     "metadata": {
      "needs_background": "light"
     },
     "output_type": "display_data"
    }
   ],
   "source": [
    "### PLot distributions ###\n",
    "look_at_distribution(data_df,color=\"tab:blue\")\n",
    "look_at_distribution(df,color=\"tab:green\")"
   ]
  },
  {
   "cell_type": "markdown",
   "metadata": {},
   "source": [
    "**Notes:**\n",
    "<br>\n",
    "* Notice that if our goal is to achive a mean of 0 and a standard divation of 1, Standarization out perfroms Normalization."
   ]
  },
  {
   "cell_type": "markdown",
   "metadata": {},
   "source": [
    "####  Standarization with Sklearn\n",
    "We can also use third party libraries in order to apply standarization \"Fasta\", though it is always a good idea to apply everything from scratch."
   ]
  },
  {
   "cell_type": "code",
   "execution_count": 8,
   "metadata": {},
   "outputs": [
    {
     "data": {
      "text/html": [
       "<div>\n",
       "<style scoped>\n",
       "    .dataframe tbody tr th:only-of-type {\n",
       "        vertical-align: middle;\n",
       "    }\n",
       "\n",
       "    .dataframe tbody tr th {\n",
       "        vertical-align: top;\n",
       "    }\n",
       "\n",
       "    .dataframe thead th {\n",
       "        text-align: right;\n",
       "    }\n",
       "</style>\n",
       "<table border=\"1\" class=\"dataframe\">\n",
       "  <thead>\n",
       "    <tr style=\"text-align: right;\">\n",
       "      <th></th>\n",
       "      <th>x1</th>\n",
       "      <th>x2</th>\n",
       "      <th>y</th>\n",
       "    </tr>\n",
       "  </thead>\n",
       "  <tbody>\n",
       "    <tr>\n",
       "      <th>0</th>\n",
       "      <td>-0.501458</td>\n",
       "      <td>-0.228665</td>\n",
       "      <td>-0.073918</td>\n",
       "    </tr>\n",
       "    <tr>\n",
       "      <th>1</th>\n",
       "      <td>0.505398</td>\n",
       "      <td>-0.228665</td>\n",
       "      <td>0.239571</td>\n",
       "    </tr>\n",
       "    <tr>\n",
       "      <th>2</th>\n",
       "      <td>-0.733034</td>\n",
       "      <td>-1.543487</td>\n",
       "      <td>-0.858844</td>\n",
       "    </tr>\n",
       "    <tr>\n",
       "      <th>3</th>\n",
       "      <td>1.260539</td>\n",
       "      <td>1.086158</td>\n",
       "      <td>1.609783</td>\n",
       "    </tr>\n",
       "    <tr>\n",
       "      <th>4</th>\n",
       "      <td>-0.016909</td>\n",
       "      <td>1.086158</td>\n",
       "      <td>-0.314447</td>\n",
       "    </tr>\n",
       "  </tbody>\n",
       "</table>\n",
       "</div>"
      ],
      "text/plain": [
       "         x1        x2         y\n",
       "0 -0.501458 -0.228665 -0.073918\n",
       "1  0.505398 -0.228665  0.239571\n",
       "2 -0.733034 -1.543487 -0.858844\n",
       "3  1.260539  1.086158  1.609783\n",
       "4 -0.016909  1.086158 -0.314447"
      ]
     },
     "execution_count": 8,
     "metadata": {},
     "output_type": "execute_result"
    }
   ],
   "source": [
    "from sklearn.preprocessing import StandardScaler\n",
    "sc = StandardScaler()\n",
    "data_sc=sc.fit_transform(data);\n",
    "df = pd.DataFrame(data=data_sc,columns=[\"x1\", \"x2\",\"y\"])\n",
    "df.head()"
   ]
  }
 ],
 "metadata": {
  "kernelspec": {
   "display_name": "machine_learning_env",
   "language": "python",
   "name": "machine_learning_env"
  },
  "language_info": {
   "codemirror_mode": {
    "name": "ipython",
    "version": 3
   },
   "file_extension": ".py",
   "mimetype": "text/x-python",
   "name": "python",
   "nbconvert_exporter": "python",
   "pygments_lexer": "ipython3",
   "version": "3.7.7"
  }
 },
 "nbformat": 4,
 "nbformat_minor": 4
}
